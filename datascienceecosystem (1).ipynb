{
  "metadata": {
    "language_info": {
      "codemirror_mode": {
        "name": "python",
        "version": 3
      },
      "file_extension": ".py",
      "mimetype": "text/x-python",
      "name": "python",
      "nbconvert_exporter": "python",
      "pygments_lexer": "ipython3",
      "version": "3.8"
    },
    "kernelspec": {
      "name": "python",
      "display_name": "Python (Pyodide)",
      "language": "python"
    }
  },
  "nbformat_minor": 4,
  "nbformat": 4,
  "cells": [
    {
      "cell_type": "markdown",
      "source": "# H1: DATA SCIENCE TOOLS AND ECOSYSTEM",
      "metadata": {}
    },
    {
      "cell_type": "markdown",
      "source": "# IN THIS NOTEBOOK DATA SCIENCE TOOLS AND ECOSYSTEM ARE SUMMARIZED",
      "metadata": {}
    },
    {
      "cell_type": "markdown",
      "source": "**OBJECTIVES**\n+ LIST POPULAR LANGUAGES FOR DATA SCIENCE\n+ LIST POPULAR LIBRARIES FOR DATA SCIENCE\n+ EVALUATE SOME ARITHMETIC EXPRESSIONS",
      "metadata": {}
    },
    {
      "cell_type": "markdown",
      "source": "# SOME OF THE POPULAR LANGUAGES  THAT DATA SCIENTIST USE ARE:\n1. PYTHON\n2. R\n3. JAVA\n4. C++",
      "metadata": {}
    },
    {
      "cell_type": "markdown",
      "source": "# SOME OF THE COMMONLY USED LIBRARIES USED BY DATA SCIENTISTS INCLUDE:\n1. PANDAS\n2. APACHE SPARK\n3. MATPLOTLIB\n4. GGPLOT\n5. TENSORFLOW",
      "metadata": {}
    },
    {
      "cell_type": "markdown",
      "source": "| DATA SCIENCE TOOLS |\n|------|\n| JUPYTER |\n| RSTUDIO |\n| APACHE FLINK |",
      "metadata": {}
    },
    {
      "cell_type": "markdown",
      "source": "### H3: Below are a few examples of evaluating arithmetic expressions in Python",
      "metadata": {}
    },
    {
      "cell_type": "code",
      "source": "# this is a simple arithmetic expression to multipy then add integers\n(3*4)+5",
      "metadata": {},
      "execution_count": null,
      "outputs": [
        {
          "execution_count": 2,
          "output_type": "execute_result",
          "data": {
            "text/plain": "17"
          },
          "metadata": {}
        }
      ]
    },
    {
      "cell_type": "code",
      "source": "# this will convert 200 minutes to hours by diving by 60\n(200/60)",
      "metadata": {},
      "execution_count": null,
      "outputs": [
        {
          "execution_count": 3,
          "output_type": "execute_result",
          "data": {
            "text/plain": "3.3333333333333335"
          },
          "metadata": {}
        }
      ]
    },
    {
      "cell_type": "markdown",
      "source": "## H2: AUTHOR\nLUISA FERNANDA RIASCOS HURTADO",
      "metadata": {}
    },
    {
      "cell_type": "code",
      "source": "",
      "metadata": {},
      "execution_count": null,
      "outputs": []
    }
  ]
}